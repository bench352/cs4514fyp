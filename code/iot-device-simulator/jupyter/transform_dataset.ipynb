{
 "cells": [
  {
   "cell_type": "markdown",
   "source": [
    "# Jupyter Notebook for Transforming Dataset\n",
    "\n",
    "Dataset used: [AnoML-IoT](https://www.kaggle.com/datasets/hkayan/anomliot)\n",
    "\n",
    "Sample dataset format:\n",
    "\n",
    "| Time       | Temperature | Humidity | ... |\n",
    "|------------|-------------|----------|-----|\n",
    "| 1623781306 | 37.94       | 28.94    | ... |\n",
    "| ...        | ...         | ...      | ... |"
   ],
   "metadata": {
    "collapsed": false
   },
   "id": "fe2ae5e96e506c69"
  },
  {
   "cell_type": "markdown",
   "source": [
    "## Load Dataset"
   ],
   "metadata": {
    "collapsed": false
   },
   "id": "64a9b5eb058f17b6"
  },
  {
   "cell_type": "code",
   "outputs": [
    {
     "data": {
      "text/plain": "            Time  Temperature  Humidity  Air Quality  Light  Loudness\n0     1623781306        37.94     28.94           75    644       106\n1     1623781316        37.94     29.00           75    645       145\n2     1623781326        37.88     28.88           75    644       146\n3     1623781336        37.72     28.94           75    646       139\n4     1623781346        37.69     29.19           75    644       155\n...          ...          ...       ...          ...    ...       ...\n6553  1623846836        26.16     57.38           75    630       169\n6554  1623846846        26.22     57.38           75    630       169\n6555  1623846856        26.22     57.38           75    630       142\n6556  1623846866        26.22     57.31           75    630       127\n6557  1623846876        26.22     57.38           75    630       132\n\n[6558 rows x 6 columns]",
      "text/html": "<div>\n<style scoped>\n    .dataframe tbody tr th:only-of-type {\n        vertical-align: middle;\n    }\n\n    .dataframe tbody tr th {\n        vertical-align: top;\n    }\n\n    .dataframe thead th {\n        text-align: right;\n    }\n</style>\n<table border=\"1\" class=\"dataframe\">\n  <thead>\n    <tr style=\"text-align: right;\">\n      <th></th>\n      <th>Time</th>\n      <th>Temperature</th>\n      <th>Humidity</th>\n      <th>Air Quality</th>\n      <th>Light</th>\n      <th>Loudness</th>\n    </tr>\n  </thead>\n  <tbody>\n    <tr>\n      <th>0</th>\n      <td>1623781306</td>\n      <td>37.94</td>\n      <td>28.94</td>\n      <td>75</td>\n      <td>644</td>\n      <td>106</td>\n    </tr>\n    <tr>\n      <th>1</th>\n      <td>1623781316</td>\n      <td>37.94</td>\n      <td>29.00</td>\n      <td>75</td>\n      <td>645</td>\n      <td>145</td>\n    </tr>\n    <tr>\n      <th>2</th>\n      <td>1623781326</td>\n      <td>37.88</td>\n      <td>28.88</td>\n      <td>75</td>\n      <td>644</td>\n      <td>146</td>\n    </tr>\n    <tr>\n      <th>3</th>\n      <td>1623781336</td>\n      <td>37.72</td>\n      <td>28.94</td>\n      <td>75</td>\n      <td>646</td>\n      <td>139</td>\n    </tr>\n    <tr>\n      <th>4</th>\n      <td>1623781346</td>\n      <td>37.69</td>\n      <td>29.19</td>\n      <td>75</td>\n      <td>644</td>\n      <td>155</td>\n    </tr>\n    <tr>\n      <th>...</th>\n      <td>...</td>\n      <td>...</td>\n      <td>...</td>\n      <td>...</td>\n      <td>...</td>\n      <td>...</td>\n    </tr>\n    <tr>\n      <th>6553</th>\n      <td>1623846836</td>\n      <td>26.16</td>\n      <td>57.38</td>\n      <td>75</td>\n      <td>630</td>\n      <td>169</td>\n    </tr>\n    <tr>\n      <th>6554</th>\n      <td>1623846846</td>\n      <td>26.22</td>\n      <td>57.38</td>\n      <td>75</td>\n      <td>630</td>\n      <td>169</td>\n    </tr>\n    <tr>\n      <th>6555</th>\n      <td>1623846856</td>\n      <td>26.22</td>\n      <td>57.38</td>\n      <td>75</td>\n      <td>630</td>\n      <td>142</td>\n    </tr>\n    <tr>\n      <th>6556</th>\n      <td>1623846866</td>\n      <td>26.22</td>\n      <td>57.31</td>\n      <td>75</td>\n      <td>630</td>\n      <td>127</td>\n    </tr>\n    <tr>\n      <th>6557</th>\n      <td>1623846876</td>\n      <td>26.22</td>\n      <td>57.38</td>\n      <td>75</td>\n      <td>630</td>\n      <td>132</td>\n    </tr>\n  </tbody>\n</table>\n<p>6558 rows × 6 columns</p>\n</div>"
     },
     "execution_count": 1,
     "metadata": {},
     "output_type": "execute_result"
    }
   ],
   "source": [
    "import pandas as pd\n",
    "\n",
    "anoml_iot_dataset = pd.read_csv(\"../datasets/dataset_final.csv\")\n",
    "anoml_iot_dataset"
   ],
   "metadata": {
    "collapsed": false,
    "ExecuteTime": {
     "end_time": "2024-04-01T01:28:27.903364Z",
     "start_time": "2024-04-01T01:28:27.670742Z"
    }
   },
   "id": "8d3bd6ef009d641e",
   "execution_count": 1
  },
  {
   "cell_type": "markdown",
   "source": [
    "## Sort Data Based on Timestamp (Just in case)"
   ],
   "metadata": {
    "collapsed": false
   },
   "id": "5433014cf0452192"
  },
  {
   "cell_type": "code",
   "outputs": [
    {
     "data": {
      "text/plain": "            Time  Temperature  Humidity  Air Quality  Light  Loudness\n0     1623781306        37.94     28.94           75    644       106\n1     1623781316        37.94     29.00           75    645       145\n2     1623781326        37.88     28.88           75    644       146\n3     1623781336        37.72     28.94           75    646       139\n4     1623781346        37.69     29.19           75    644       155\n...          ...          ...       ...          ...    ...       ...\n6553  1623846836        26.16     57.38           75    630       169\n6554  1623846846        26.22     57.38           75    630       169\n6555  1623846856        26.22     57.38           75    630       142\n6556  1623846866        26.22     57.31           75    630       127\n6557  1623846876        26.22     57.38           75    630       132\n\n[6558 rows x 6 columns]",
      "text/html": "<div>\n<style scoped>\n    .dataframe tbody tr th:only-of-type {\n        vertical-align: middle;\n    }\n\n    .dataframe tbody tr th {\n        vertical-align: top;\n    }\n\n    .dataframe thead th {\n        text-align: right;\n    }\n</style>\n<table border=\"1\" class=\"dataframe\">\n  <thead>\n    <tr style=\"text-align: right;\">\n      <th></th>\n      <th>Time</th>\n      <th>Temperature</th>\n      <th>Humidity</th>\n      <th>Air Quality</th>\n      <th>Light</th>\n      <th>Loudness</th>\n    </tr>\n  </thead>\n  <tbody>\n    <tr>\n      <th>0</th>\n      <td>1623781306</td>\n      <td>37.94</td>\n      <td>28.94</td>\n      <td>75</td>\n      <td>644</td>\n      <td>106</td>\n    </tr>\n    <tr>\n      <th>1</th>\n      <td>1623781316</td>\n      <td>37.94</td>\n      <td>29.00</td>\n      <td>75</td>\n      <td>645</td>\n      <td>145</td>\n    </tr>\n    <tr>\n      <th>2</th>\n      <td>1623781326</td>\n      <td>37.88</td>\n      <td>28.88</td>\n      <td>75</td>\n      <td>644</td>\n      <td>146</td>\n    </tr>\n    <tr>\n      <th>3</th>\n      <td>1623781336</td>\n      <td>37.72</td>\n      <td>28.94</td>\n      <td>75</td>\n      <td>646</td>\n      <td>139</td>\n    </tr>\n    <tr>\n      <th>4</th>\n      <td>1623781346</td>\n      <td>37.69</td>\n      <td>29.19</td>\n      <td>75</td>\n      <td>644</td>\n      <td>155</td>\n    </tr>\n    <tr>\n      <th>...</th>\n      <td>...</td>\n      <td>...</td>\n      <td>...</td>\n      <td>...</td>\n      <td>...</td>\n      <td>...</td>\n    </tr>\n    <tr>\n      <th>6553</th>\n      <td>1623846836</td>\n      <td>26.16</td>\n      <td>57.38</td>\n      <td>75</td>\n      <td>630</td>\n      <td>169</td>\n    </tr>\n    <tr>\n      <th>6554</th>\n      <td>1623846846</td>\n      <td>26.22</td>\n      <td>57.38</td>\n      <td>75</td>\n      <td>630</td>\n      <td>169</td>\n    </tr>\n    <tr>\n      <th>6555</th>\n      <td>1623846856</td>\n      <td>26.22</td>\n      <td>57.38</td>\n      <td>75</td>\n      <td>630</td>\n      <td>142</td>\n    </tr>\n    <tr>\n      <th>6556</th>\n      <td>1623846866</td>\n      <td>26.22</td>\n      <td>57.31</td>\n      <td>75</td>\n      <td>630</td>\n      <td>127</td>\n    </tr>\n    <tr>\n      <th>6557</th>\n      <td>1623846876</td>\n      <td>26.22</td>\n      <td>57.38</td>\n      <td>75</td>\n      <td>630</td>\n      <td>132</td>\n    </tr>\n  </tbody>\n</table>\n<p>6558 rows × 6 columns</p>\n</div>"
     },
     "execution_count": 2,
     "metadata": {},
     "output_type": "execute_result"
    }
   ],
   "source": [
    "anoml_iot_dataset_sorted = anoml_iot_dataset.sort_values(by=[\"Time\"])\n",
    "anoml_iot_dataset_sorted"
   ],
   "metadata": {
    "collapsed": false,
    "ExecuteTime": {
     "end_time": "2024-04-01T01:28:27.911564Z",
     "start_time": "2024-04-01T01:28:27.904773Z"
    }
   },
   "id": "191ac497871d1a05",
   "execution_count": 2
  },
  {
   "cell_type": "markdown",
   "source": [
    "## Generate Input for IoT Device Simulator"
   ],
   "metadata": {
    "collapsed": false
   },
   "id": "49be8d7ab28049a"
  },
  {
   "cell_type": "code",
   "outputs": [],
   "source": [
    "IGNORE_KEYS = [\"Air Quality\", \"Loudness\"]"
   ],
   "metadata": {
    "collapsed": false,
    "ExecuteTime": {
     "end_time": "2024-04-01T01:28:27.914816Z",
     "start_time": "2024-04-01T01:28:27.912545Z"
    }
   },
   "id": "5d3573ed0d958f7d",
   "execution_count": 3
  },
  {
   "cell_type": "code",
   "outputs": [],
   "source": [
    "from datetime import datetime\n",
    "from collections import defaultdict\n",
    "import pytz\n",
    "\n",
    "simulator_schedule: dict[str, list[dict[str, float]]] = defaultdict(list)\n",
    "\n",
    "current_timestamp = anoml_iot_dataset_sorted.iloc[0][\"Time\"]\n",
    "\n",
    "for index, row in anoml_iot_dataset_sorted.iterrows():\n",
    "    row_dict = row.to_dict()\n",
    "    previous_timestamp = current_timestamp\n",
    "    current_timestamp = row_dict.pop(\"Time\")\n",
    "    time_difference = current_timestamp - previous_timestamp\n",
    "    ts_iso8601_format = datetime.fromtimestamp(\n",
    "        timestamp=current_timestamp, tz=pytz.timezone(\"UTC\")\n",
    "    ).isoformat()\n",
    "    for key, value in row_dict.items():\n",
    "        if key not in IGNORE_KEYS:\n",
    "            simulator_schedule[key].append(\n",
    "                {\n",
    "                    \"timestamp\": ts_iso8601_format,\n",
    "                    \"timeDifference\": time_difference,\n",
    "                    \"value\": value,\n",
    "                }\n",
    "            )"
   ],
   "metadata": {
    "collapsed": false,
    "ExecuteTime": {
     "end_time": "2024-04-01T01:28:28.091751Z",
     "start_time": "2024-04-01T01:28:27.915839Z"
    }
   },
   "id": "2b750c2ab60b2555",
   "execution_count": 4
  },
  {
   "cell_type": "markdown",
   "source": [
    "## Save Result as JSON"
   ],
   "metadata": {
    "collapsed": false
   },
   "id": "b955db0545f9bf3e"
  },
  {
   "cell_type": "code",
   "outputs": [],
   "source": [
    "import json\n",
    "\n",
    "with open(\"../datasets/schedule.json\", \"w\") as f:\n",
    "    json.dump(simulator_schedule, f)"
   ],
   "metadata": {
    "collapsed": false,
    "ExecuteTime": {
     "end_time": "2024-04-01T01:28:28.152236Z",
     "start_time": "2024-04-01T01:28:28.093225Z"
    }
   },
   "id": "5566026872d5a2f5",
   "execution_count": 5
  }
 ],
 "metadata": {
  "kernelspec": {
   "display_name": "Python 3",
   "language": "python",
   "name": "python3"
  },
  "language_info": {
   "codemirror_mode": {
    "name": "ipython",
    "version": 2
   },
   "file_extension": ".py",
   "mimetype": "text/x-python",
   "name": "python",
   "nbconvert_exporter": "python",
   "pygments_lexer": "ipython2",
   "version": "2.7.6"
  }
 },
 "nbformat": 4,
 "nbformat_minor": 5
}
