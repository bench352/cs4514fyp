{
 "cells": [
  {
   "cell_type": "markdown",
   "id": "4be8ea0c863e6346",
   "metadata": {
    "collapsed": false
   },
   "source": [
    "# Anomaly Detection Playground\n",
    "\n",
    "Dataset used: [AnoML-IoT](https://www.kaggle.com/datasets/hkayan/anomliot)\n",
    "\n",
    "Sample dataset format:\n",
    "\n",
    "| Time       | Temperature | Humidity | ... |\n",
    "|------------|-------------|----------|-----|\n",
    "| 1623781306 | 37.94       | 28.94    | ... |\n",
    "| ...        | ...         | ...      | ... |\n",
    "\n",
    "Although the data is unlabelled, it was stated in the description of the dataset that anomalies are created in the following period of time:\n",
    "\n",
    "- 18:21:46 - 19:37:16 (first day)\n",
    "- 02:26:36 - 04:15:56 (second day)\n",
    "- 08:54:46 - 10:45:36 (second day)"
   ]
  },
  {
   "cell_type": "markdown",
   "id": "59dfeda3e670d06b",
   "metadata": {
    "collapsed": false
   },
   "source": [
    "## Load Dataset"
   ]
  },
  {
   "cell_type": "code",
   "execution_count": null,
   "id": "3d8d883a0d1e557d",
   "metadata": {
    "collapsed": false
   },
   "outputs": [],
   "source": [
    "import pandas as pd\n",
    "\n",
    "anoml_iot_dataset = pd.read_csv('./datasets/dataset_final.csv')"
   ]
  },
  {
   "cell_type": "code",
   "execution_count": null,
   "id": "6704ea79a4c200dd",
   "metadata": {
    "collapsed": false
   },
   "outputs": [],
   "source": [
    "anoml_iot_dataset.plot(\"Time\", [\"Temperature\"])"
   ]
  },
  {
   "cell_type": "markdown",
   "id": "f5e02500283f3de7",
   "metadata": {
    "collapsed": false
   },
   "source": [
    "## Make the Dataframe a Timeseries Object"
   ]
  },
  {
   "cell_type": "code",
   "execution_count": null,
   "id": "447503b0b064195a",
   "metadata": {
    "collapsed": false
   },
   "outputs": [],
   "source": [
    "from darts.timeseries import TimeSeries\n",
    "\n",
    "ts_data = TimeSeries.from_dataframe(anoml_iot_dataset, time_col=\"Time\", value_cols=[\"Temperature\"])\n",
    "ts_data"
   ]
  },
  {
   "cell_type": "markdown",
   "id": "5bb77c21",
   "metadata": {},
   "source": [
    "## Generate Anomaly Detection Ground Truth"
   ]
  },
  {
   "cell_type": "code",
   "execution_count": null,
   "id": "d3cd9c6d",
   "metadata": {},
   "outputs": [],
   "source": [
    "def is_data_point_anomaly(row):\n",
    "    # 18:21:46 - 19:37:16 (first day)\n",
    "    if row[\"Time\"] >= 1623781306 and row[\"Time\"] <= 1623785836:\n",
    "        return 1\n",
    "    # 02:26:36 - 04:15:56 (second day)\n",
    "    if row[\"Time\"] >= 1623810396 and row[\"Time\"] <= 1623816956:\n",
    "        return 1\n",
    "    # 08:54:46 - 10:45:36 (second day)\n",
    "    if row[\"Time\"] >= 1623833686 and row[\"Time\"] <= 1623840336:\n",
    "        return 1\n",
    "    return 0"
   ]
  },
  {
   "cell_type": "code",
   "execution_count": null,
   "id": "04515aa5",
   "metadata": {},
   "outputs": [],
   "source": [
    "anoml_iot_dataset[\"Anomaly\"] = anoml_iot_dataset.apply(is_data_point_anomaly, axis=1)\n",
    "\n",
    "anomaly_ground_truth = TimeSeries.from_dataframe(anoml_iot_dataset, time_col=\"Time\", value_cols=[\"Anomaly\"])\n",
    "anomaly_ground_truth"
   ]
  },
  {
   "cell_type": "markdown",
   "id": "3c633d3395607b86",
   "metadata": {
    "collapsed": false
   },
   "source": [
    "## Anomaly Detection"
   ]
  },
  {
   "cell_type": "markdown",
   "id": "9514fd3d1f380abf",
   "metadata": {
    "collapsed": false
   },
   "source": []
  },
  {
   "cell_type": "code",
   "execution_count": null,
   "id": "ac5a8427fb64c4f0",
   "metadata": {
    "collapsed": false
   },
   "outputs": [],
   "source": [
    "from darts.ad.anomaly_model.filtering_am import FilteringAnomalyModel\n",
    "from darts.models.filtering.moving_average_filter import MovingAverageFilter\n",
    "from darts.ad.scorers.difference_scorer import DifferenceScorer\n",
    "from darts.ad.anomaly_model.forecasting_am import ForecastingAnomalyModel\n",
    "from darts.models.forecasting.auto_arima import AutoARIMA\n",
    "from darts.models.forecasting.arima import ARIMA\n",
    "\n",
    "ad_model = FilteringAnomalyModel(model=MovingAverageFilter(window=59, centered=False), scorer=DifferenceScorer())\n",
    "# ad_model = ForecastingAnomalyModel(model=ARIMA(p=2), scorer=DifferenceScorer())\n",
    "# ad_model.fit(ts_data, allow_model_training=True)\n"
   ]
  },
  {
   "cell_type": "code",
   "execution_count": null,
   "id": "b4648de7",
   "metadata": {},
   "outputs": [],
   "source": [
    "ad_model.show_anomalies(ts_data)"
   ]
  },
  {
   "cell_type": "code",
   "execution_count": null,
   "id": "147d38ee9a8a1a86",
   "metadata": {
    "collapsed": false
   },
   "outputs": [],
   "source": [
    "score = ad_model.score(ts_data)"
   ]
  },
  {
   "cell_type": "code",
   "execution_count": null,
   "id": "51253794b23b3601",
   "metadata": {
    "collapsed": false
   },
   "outputs": [],
   "source": [
    "from darts.ad.detectors.quantile_detector import ThresholdDetector\n",
    "\n",
    "THRESHOLD_RANGE = 2\n",
    "\n",
    "td = ThresholdDetector(low_threshold=-THRESHOLD_RANGE,high_threshold=THRESHOLD_RANGE)\n",
    "anomalies = td.detect(score)\n",
    "anomalies.pd_dataframe()"
   ]
  },
  {
   "cell_type": "markdown",
   "id": "049b8b43",
   "metadata": {},
   "source": [
    "## Evaluate Model Accuracy"
   ]
  },
  {
   "cell_type": "code",
   "execution_count": null,
   "id": "1b01b3a1",
   "metadata": {},
   "outputs": [],
   "source": [
    "td.eval_accuracy(anomaly_ground_truth, anomalies, metric=\"accuracy\")"
   ]
  },
  {
   "cell_type": "markdown",
   "id": "6ef3c5f4ccd64010",
   "metadata": {
    "collapsed": false
   },
   "source": [
    "## Plot Anomalies"
   ]
  },
  {
   "cell_type": "code",
   "execution_count": null,
   "id": "c8834ee6d7bd3ec5",
   "metadata": {
    "collapsed": false
   },
   "outputs": [],
   "source": [
    "anomalies.plot()"
   ]
  },
  {
   "cell_type": "code",
   "execution_count": null,
   "id": "436d1ae3",
   "metadata": {},
   "outputs": [],
   "source": [
    "anomalies.pd_dataframe()\n",
    "\n",
    "anomalies_df_raw = anomalies.pd_dataframe()\n",
    "\n",
    "# convert to dataframe\n",
    "\n",
    "anomaly_df = pd.DataFrame(\n",
    "    {\n",
    "        \"Time\": anomalies_df_raw[\"0\"].keys(),\n",
    "        \"IsAnomaly\": anomalies_df_raw[\"0\"].values,\n",
    "    },\n",
    ")\n",
    "\n",
    "# Filter out anomalies\n",
    "anomaly_df = anomaly_df[anomaly_df[\"IsAnomaly\"] > 0]\n",
    "anomaly_df[\"Time\"] = pd.to_datetime(anomaly_df[\"Time\"], unit=\"s\", origin=\"unix\")\n",
    "\n",
    "anomaly_df"
   ]
  },
  {
   "cell_type": "code",
   "execution_count": null,
   "id": "223bf615",
   "metadata": {},
   "outputs": [],
   "source": [
    "temperature_df = pd.DataFrame(\n",
    "    {\n",
    "        \"Time\": ts_data.pd_dataframe()[\"Temperature\"].keys(),\n",
    "        \"Temperature\":ts_data.pd_dataframe()[\"Temperature\"].values,\n",
    "    },\n",
    ")\n",
    "\n",
    "temperature_df[\"Time\"] = pd.to_datetime(temperature_df[\"Time\"], unit=\"s\", origin=\"unix\")\n",
    "temperature_df\n"
   ]
  },
  {
   "cell_type": "code",
   "execution_count": null,
   "id": "4cb9bf25",
   "metadata": {},
   "outputs": [],
   "source": [
    "filtered_temperature = temperature_df[temperature_df[\"Time\"].isin(anomaly_df[\"Time\"])]\n",
    "filtered_temperature"
   ]
  },
  {
   "cell_type": "code",
   "execution_count": null,
   "id": "897184829d0df106",
   "metadata": {
    "collapsed": false
   },
   "outputs": [],
   "source": [
    "import matplotlib.pyplot as plt\n",
    "\n",
    "fig = plt.figure(figsize=(20, 10))\n",
    "\n",
    "plt.title('Anomalies in the Temperature time series')\n",
    "plt.ylabel('Temperature')\n",
    "plt.xlabel('Time')\n",
    "plt.plot(temperature_df[\"Time\"], temperature_df[\"Temperature\"], label='Temperature')\n",
    "# Mark the anomalous data point with a red circle, based on the binary output of the anomaly detector\n",
    "plt.plot(filtered_temperature[\"Time\"], filtered_temperature[\"Temperature\"], 'ro', label='Anomaly')\n",
    "plt.legend()\n",
    "plt.show()\n"
   ]
  },
  {
   "cell_type": "markdown",
   "id": "798cff11b6e38d6d",
   "metadata": {
    "collapsed": false
   },
   "source": [
    "## Simulate Real-time Anomaly Detection (Incremental/Online Learning)"
   ]
  },
  {
   "cell_type": "markdown",
   "id": "1d5b893d",
   "metadata": {},
   "source": [
    "Darts seems to be designed for batch learning instead of incremental learning, making it not suitable for real-time anomaly detection."
   ]
  }
 ],
 "metadata": {
  "kernelspec": {
   "display_name": "Python 3",
   "language": "python",
   "name": "python3"
  },
  "language_info": {
   "codemirror_mode": {
    "name": "ipython",
    "version": 3
   },
   "file_extension": ".py",
   "mimetype": "text/x-python",
   "name": "python",
   "nbconvert_exporter": "python",
   "pygments_lexer": "ipython3",
   "version": "3.10.12"
  }
 },
 "nbformat": 4,
 "nbformat_minor": 5
}
